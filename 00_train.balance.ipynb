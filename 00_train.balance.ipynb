{
 "cells": [
  {
   "cell_type": "code",
   "execution_count": null,
   "metadata": {},
   "outputs": [],
   "source": [
    "# default_exp train.balance"
   ]
  },
  {
   "cell_type": "markdown",
   "metadata": {},
   "source": [
    "# Balance training data\n",
    "\n",
    "> Various methods to balance training data by target class (label) for model training"
   ]
  },
  {
   "cell_type": "code",
   "execution_count": null,
   "metadata": {},
   "outputs": [],
   "source": [
    "# hide\n",
    "from nbdev.showdoc import *\n",
    "from fastcore.test import *"
   ]
  },
  {
   "cell_type": "code",
   "execution_count": null,
   "metadata": {},
   "outputs": [],
   "source": [
    "# export \n",
    "import pandas as pd\n",
    "import numpy as np"
   ]
  },
  {
   "cell_type": "markdown",
   "metadata": {},
   "source": [
    "## Downsample "
   ]
  },
  {
   "cell_type": "code",
   "execution_count": null,
   "metadata": {},
   "outputs": [],
   "source": [
    "# export\n",
    "def downsample_df(df:pd.DataFrame, y_column:str, min_size:int=None, random_state:int=115, **kwargs) -> pd.DataFrame:\n",
    "    '''Balance classes of the target variable by downsampling all classes to be equal to or smaller than \"min_size\".\n",
    "    \n",
    "    Classes smaller than \"min_size\" are not affected and will remain at their current size. If \"min_size\" is ommitted, \n",
    "    the size of the smallest current class is taken as \"min_size\". TEST.  \n",
    "    '''\n",
    "    df_new = df.copy()#.reset_index(drop=True)\n",
    "    \n",
    "    # get smallest current class if not supplied\n",
    "    if min_size == None:\n",
    "        min_size = df_new[y_column].value_counts().min()\n",
    "    \n",
    "    # downsample all classes larger than min_size\n",
    "    for class_index, group in df_new.groupby(y_column):\n",
    "        if group.shape[0] > min_size:\n",
    "            drop_idx = group.sample(len(group)-min_size, random_state=random_state, **kwargs).index\n",
    "            df_new = df_new.drop(drop_idx)\n",
    "            \n",
    "    return df_new.reset_index(drop=True)"
   ]
  },
  {
   "cell_type": "markdown",
   "metadata": {},
   "source": [
    "**Paramters**\n",
    "\n",
    "- *df*: Dataframe containing column \"y_column\"\n",
    "\n",
    "- *y_column*: Name of df column containing the target variable (label)\n",
    "\n",
    "- *min_size*: If no value is supplied, min_size will be set to the size of the smallest current class\n",
    "\n",
    "- *random_state*: Random state for reproducibility\n",
    "\n",
    "**Returns**\n",
    "\n",
    "- *new_df*: Has the same structure as the input dataframe but classes were balanced by downsampling"
   ]
  },
  {
   "cell_type": "code",
   "execution_count": null,
   "metadata": {},
   "outputs": [
    {
     "data": {
      "text/html": [
       "<div>\n",
       "<style scoped>\n",
       "    .dataframe tbody tr th:only-of-type {\n",
       "        vertical-align: middle;\n",
       "    }\n",
       "\n",
       "    .dataframe tbody tr th {\n",
       "        vertical-align: top;\n",
       "    }\n",
       "\n",
       "    .dataframe thead th {\n",
       "        text-align: right;\n",
       "    }\n",
       "</style>\n",
       "<table border=\"1\" class=\"dataframe\">\n",
       "  <thead>\n",
       "    <tr style=\"text-align: right;\">\n",
       "      <th></th>\n",
       "      <th>x</th>\n",
       "    </tr>\n",
       "    <tr>\n",
       "      <th>y</th>\n",
       "      <th></th>\n",
       "    </tr>\n",
       "  </thead>\n",
       "  <tbody>\n",
       "    <tr>\n",
       "      <th>0</th>\n",
       "      <td>1</td>\n",
       "    </tr>\n",
       "    <tr>\n",
       "      <th>1</th>\n",
       "      <td>2</td>\n",
       "    </tr>\n",
       "    <tr>\n",
       "      <th>2</th>\n",
       "      <td>3</td>\n",
       "    </tr>\n",
       "  </tbody>\n",
       "</table>\n",
       "</div>"
      ],
      "text/plain": [
       "   x\n",
       "y   \n",
       "0  1\n",
       "1  2\n",
       "2  3"
      ]
     },
     "execution_count": null,
     "metadata": {},
     "output_type": "execute_result"
    }
   ],
   "source": [
    "df = pd.DataFrame({\"x\": [\"A1\", \"B1\", \"B2\", \"C1\", \"C2\", \"C3\"], \"y\": [0, 1, 1, 2, 2, 2]})\n",
    "df.groupby(\"y\").count()"
   ]
  },
  {
   "cell_type": "code",
   "execution_count": null,
   "metadata": {},
   "outputs": [
    {
     "data": {
      "text/html": [
       "<div>\n",
       "<style scoped>\n",
       "    .dataframe tbody tr th:only-of-type {\n",
       "        vertical-align: middle;\n",
       "    }\n",
       "\n",
       "    .dataframe tbody tr th {\n",
       "        vertical-align: top;\n",
       "    }\n",
       "\n",
       "    .dataframe thead th {\n",
       "        text-align: right;\n",
       "    }\n",
       "</style>\n",
       "<table border=\"1\" class=\"dataframe\">\n",
       "  <thead>\n",
       "    <tr style=\"text-align: right;\">\n",
       "      <th></th>\n",
       "      <th>x</th>\n",
       "    </tr>\n",
       "    <tr>\n",
       "      <th>y</th>\n",
       "      <th></th>\n",
       "    </tr>\n",
       "  </thead>\n",
       "  <tbody>\n",
       "    <tr>\n",
       "      <th>0</th>\n",
       "      <td>1</td>\n",
       "    </tr>\n",
       "    <tr>\n",
       "      <th>1</th>\n",
       "      <td>1</td>\n",
       "    </tr>\n",
       "    <tr>\n",
       "      <th>2</th>\n",
       "      <td>1</td>\n",
       "    </tr>\n",
       "  </tbody>\n",
       "</table>\n",
       "</div>"
      ],
      "text/plain": [
       "   x\n",
       "y   \n",
       "0  1\n",
       "1  1\n",
       "2  1"
      ]
     },
     "execution_count": null,
     "metadata": {},
     "output_type": "execute_result"
    }
   ],
   "source": [
    "new_df = downsample_df(df=df, y_column=\"y\", random_state=115)\n",
    "new_df.groupby(\"y\").count()"
   ]
  },
  {
   "cell_type": "code",
   "execution_count": null,
   "metadata": {},
   "outputs": [],
   "source": [
    "# hide\n",
    "\n",
    "# downsample unit tests\n",
    "# test 0 \n",
    "new_df = downsample_df(df=df, y_column=\"y\", min_size=0).groupby(\"y\").count()\n",
    "test_eq(list(new_df.x), [])\n",
    "\n",
    "# test default downsample \n",
    "new_df = downsample_df(df=df, y_column=\"y\").groupby(\"y\").count()\n",
    "test_eq(list(new_df.x), [1, 1, 1])\n",
    "\n",
    "# test partial downsample\n",
    "new_df = downsample_df(df=df, y_column=\"y\", min_size=2).groupby(\"y\").count()\n",
    "test_eq(list(new_df.x), [1, 2, 2])\n",
    "\n",
    "# test none downsample\n",
    "new_df = downsample_df(df=df, y_column=\"y\", min_size=3).groupby(\"y\").count()\n",
    "test_eq(list(new_df.x), [1, 2, 3])\n",
    "\n",
    "# test too large\n",
    "new_df = downsample_df(df=df, y_column=\"y\", min_size=4).groupby(\"y\").count()\n",
    "test_eq(list(new_df.x), [1, 2, 3])"
   ]
  },
  {
   "cell_type": "markdown",
   "metadata": {},
   "source": [
    "## Upsample"
   ]
  },
  {
   "cell_type": "code",
   "execution_count": null,
   "metadata": {},
   "outputs": [],
   "source": [
    "# export\n",
    "\n",
    "def upsample_df(df:pd.DataFrame, y_column:str, max_size:int=None, random_state:int=115, **kwargs) -> pd.DataFrame:\n",
    "    '''Balance classes of the target variable by upsampling all classes to be equal to or larger than \"max_size\".\n",
    "       \n",
    "    Classes larger than \"max_size\" are not affected and will remain at their current size. If \"max_size\" is ommitted, \n",
    "    the size of the largest class is taken as \"max_size\".   \n",
    "    '''\n",
    "    df_new = df.copy()#.reset_index(drop=True)\n",
    "    \n",
    "    # get largest current class if not supplied\n",
    "    if max_size == None:\n",
    "        max_size = df_new[y_column].value_counts().max()\n",
    "    \n",
    "    # upsample all classes smaller than max_size\n",
    "    for class_index, group in df_new.groupby(y_column):\n",
    "        if group.shape[0] < max_size:\n",
    "            df_new = df_new.append(group.sample(max_size-len(group), replace=True, random_state=random_state, **kwargs))\n",
    "        \n",
    "    return df_new.reset_index(drop=True)"
   ]
  },
  {
   "cell_type": "markdown",
   "metadata": {},
   "source": [
    "**Paramters**\n",
    "\n",
    "- *df*: Dataframe containing column \"y_column\"\n",
    "\n",
    "- *y_column*: Name of df column containing the target variable (label)\n",
    "\n",
    "- *max_size*: If no value is supplied, max_size will be set to the size of the largest current class\n",
    "\n",
    "- *random_state*: Random state for reproducibility\n",
    "\n",
    "**Returns**\n",
    "\n",
    "- *new_df*: Has the same structure as the input dataframe but classes were balanced by upsampling"
   ]
  },
  {
   "cell_type": "code",
   "execution_count": null,
   "metadata": {},
   "outputs": [
    {
     "data": {
      "text/html": [
       "<div>\n",
       "<style scoped>\n",
       "    .dataframe tbody tr th:only-of-type {\n",
       "        vertical-align: middle;\n",
       "    }\n",
       "\n",
       "    .dataframe tbody tr th {\n",
       "        vertical-align: top;\n",
       "    }\n",
       "\n",
       "    .dataframe thead th {\n",
       "        text-align: right;\n",
       "    }\n",
       "</style>\n",
       "<table border=\"1\" class=\"dataframe\">\n",
       "  <thead>\n",
       "    <tr style=\"text-align: right;\">\n",
       "      <th></th>\n",
       "      <th>x</th>\n",
       "    </tr>\n",
       "    <tr>\n",
       "      <th>y</th>\n",
       "      <th></th>\n",
       "    </tr>\n",
       "  </thead>\n",
       "  <tbody>\n",
       "    <tr>\n",
       "      <th>0</th>\n",
       "      <td>1</td>\n",
       "    </tr>\n",
       "    <tr>\n",
       "      <th>1</th>\n",
       "      <td>2</td>\n",
       "    </tr>\n",
       "    <tr>\n",
       "      <th>2</th>\n",
       "      <td>3</td>\n",
       "    </tr>\n",
       "  </tbody>\n",
       "</table>\n",
       "</div>"
      ],
      "text/plain": [
       "   x\n",
       "y   \n",
       "0  1\n",
       "1  2\n",
       "2  3"
      ]
     },
     "execution_count": null,
     "metadata": {},
     "output_type": "execute_result"
    }
   ],
   "source": [
    "df = pd.DataFrame({\"x\": [\"A1\", \"B1\", \"B2\", \"C1\", \"C2\", \"C3\"], \"y\": [0, 1, 1, 2, 2, 2]})\n",
    "df.groupby(\"y\").count()"
   ]
  },
  {
   "cell_type": "code",
   "execution_count": null,
   "metadata": {},
   "outputs": [
    {
     "data": {
      "text/html": [
       "<div>\n",
       "<style scoped>\n",
       "    .dataframe tbody tr th:only-of-type {\n",
       "        vertical-align: middle;\n",
       "    }\n",
       "\n",
       "    .dataframe tbody tr th {\n",
       "        vertical-align: top;\n",
       "    }\n",
       "\n",
       "    .dataframe thead th {\n",
       "        text-align: right;\n",
       "    }\n",
       "</style>\n",
       "<table border=\"1\" class=\"dataframe\">\n",
       "  <thead>\n",
       "    <tr style=\"text-align: right;\">\n",
       "      <th></th>\n",
       "      <th>x</th>\n",
       "    </tr>\n",
       "    <tr>\n",
       "      <th>y</th>\n",
       "      <th></th>\n",
       "    </tr>\n",
       "  </thead>\n",
       "  <tbody>\n",
       "    <tr>\n",
       "      <th>0</th>\n",
       "      <td>3</td>\n",
       "    </tr>\n",
       "    <tr>\n",
       "      <th>1</th>\n",
       "      <td>3</td>\n",
       "    </tr>\n",
       "    <tr>\n",
       "      <th>2</th>\n",
       "      <td>3</td>\n",
       "    </tr>\n",
       "  </tbody>\n",
       "</table>\n",
       "</div>"
      ],
      "text/plain": [
       "   x\n",
       "y   \n",
       "0  3\n",
       "1  3\n",
       "2  3"
      ]
     },
     "execution_count": null,
     "metadata": {},
     "output_type": "execute_result"
    }
   ],
   "source": [
    "new_df = upsample_df(df=df, y_column=\"y\", random_state=115)\n",
    "new_df.groupby(\"y\").count()"
   ]
  },
  {
   "cell_type": "code",
   "execution_count": null,
   "metadata": {},
   "outputs": [],
   "source": [
    "# hide\n",
    "\n",
    "# upsample unit tests\n",
    "# test 0 \n",
    "new_df = upsample_df(df=df, y_column=\"y\", max_size=0).groupby(\"y\").count()\n",
    "test_eq(list(new_df.x), [1, 2, 3])\n",
    "\n",
    "# test default upsample \n",
    "new_df = upsample_df(df=df, y_column=\"y\").groupby(\"y\").count()\n",
    "test_eq(list(new_df.x), [3, 3, 3])\n",
    "\n",
    "# test partial upsample\n",
    "new_df = upsample_df(df=df, y_column=\"y\", max_size=2).groupby(\"y\").count()\n",
    "test_eq(list(new_df.x), [2, 2, 3])\n",
    "\n",
    "# test explicit default upsample\n",
    "new_df = upsample_df(df=df, y_column=\"y\", max_size=3).groupby(\"y\").count()\n",
    "test_eq(list(new_df.x), [3, 3, 3])\n",
    "\n",
    "# test complete upsample\n",
    "new_df = upsample_df(df=df, y_column=\"y\", max_size=4).groupby(\"y\").count()\n",
    "test_eq(list(new_df.x), [4, 4, 4])"
   ]
  },
  {
   "cell_type": "markdown",
   "metadata": {},
   "source": [
    "## Balance"
   ]
  },
  {
   "cell_type": "code",
   "execution_count": null,
   "metadata": {},
   "outputs": [],
   "source": [
    "# export\n",
    "\n",
    "def balance_df(df:pd.DataFrame, y_column:str, size:int, random_state:int=115, **kwargs) -> pd.DataFrame:\n",
    "    '''Balance classes of the target variable by up- or downsampling all classes to be equal to \"size\".\n",
    "    '''\n",
    "    df_new = df.copy().reset_index(drop=True)\n",
    "    \n",
    "    for class_index, group in df_new.groupby(y_column):\n",
    "        if group.shape[0] < size:\n",
    "            df_new = df_new.append(group.sample(size-len(group), replace=True, random_state=random_state, **kwargs))\n",
    "        if group.shape[0] > size:\n",
    "            drop_idx = group.sample(len(group)-size, random_state=random_state, **kwargs).index\n",
    "            df_new = df_new.drop(drop_idx)\n",
    "        \n",
    "    return df_new.reset_index(drop=True)"
   ]
  },
  {
   "cell_type": "markdown",
   "metadata": {},
   "source": [
    "**Paramters**\n",
    "\n",
    "- *df*: Dataframe containing column \"y_column\"\n",
    "\n",
    "- *y_column*: Name of df column containing the target variable (label)\n",
    "\n",
    "- *size*: desired class size\n",
    "\n",
    "- *random_state*: Random state for reproducibility\n",
    "\n",
    "**Returns**\n",
    "\n",
    "- *new_df*: Has the same structure as the input dataframe but classes were balanced to a certain size"
   ]
  },
  {
   "cell_type": "code",
   "execution_count": null,
   "metadata": {},
   "outputs": [
    {
     "data": {
      "text/html": [
       "<div>\n",
       "<style scoped>\n",
       "    .dataframe tbody tr th:only-of-type {\n",
       "        vertical-align: middle;\n",
       "    }\n",
       "\n",
       "    .dataframe tbody tr th {\n",
       "        vertical-align: top;\n",
       "    }\n",
       "\n",
       "    .dataframe thead th {\n",
       "        text-align: right;\n",
       "    }\n",
       "</style>\n",
       "<table border=\"1\" class=\"dataframe\">\n",
       "  <thead>\n",
       "    <tr style=\"text-align: right;\">\n",
       "      <th></th>\n",
       "      <th>x</th>\n",
       "    </tr>\n",
       "    <tr>\n",
       "      <th>y</th>\n",
       "      <th></th>\n",
       "    </tr>\n",
       "  </thead>\n",
       "  <tbody>\n",
       "    <tr>\n",
       "      <th>0</th>\n",
       "      <td>1</td>\n",
       "    </tr>\n",
       "    <tr>\n",
       "      <th>1</th>\n",
       "      <td>2</td>\n",
       "    </tr>\n",
       "    <tr>\n",
       "      <th>2</th>\n",
       "      <td>3</td>\n",
       "    </tr>\n",
       "  </tbody>\n",
       "</table>\n",
       "</div>"
      ],
      "text/plain": [
       "   x\n",
       "y   \n",
       "0  1\n",
       "1  2\n",
       "2  3"
      ]
     },
     "execution_count": null,
     "metadata": {},
     "output_type": "execute_result"
    }
   ],
   "source": [
    "df = pd.DataFrame({\"x\": [\"A1\", \"B1\", \"B2\", \"C1\", \"C2\", \"C3\"], \"y\": [0, 1, 1, 2, 2, 2]})\n",
    "df.groupby(\"y\").count()"
   ]
  },
  {
   "cell_type": "code",
   "execution_count": null,
   "metadata": {},
   "outputs": [
    {
     "data": {
      "text/html": [
       "<div>\n",
       "<style scoped>\n",
       "    .dataframe tbody tr th:only-of-type {\n",
       "        vertical-align: middle;\n",
       "    }\n",
       "\n",
       "    .dataframe tbody tr th {\n",
       "        vertical-align: top;\n",
       "    }\n",
       "\n",
       "    .dataframe thead th {\n",
       "        text-align: right;\n",
       "    }\n",
       "</style>\n",
       "<table border=\"1\" class=\"dataframe\">\n",
       "  <thead>\n",
       "    <tr style=\"text-align: right;\">\n",
       "      <th></th>\n",
       "      <th>x</th>\n",
       "    </tr>\n",
       "    <tr>\n",
       "      <th>y</th>\n",
       "      <th></th>\n",
       "    </tr>\n",
       "  </thead>\n",
       "  <tbody>\n",
       "    <tr>\n",
       "      <th>0</th>\n",
       "      <td>5</td>\n",
       "    </tr>\n",
       "    <tr>\n",
       "      <th>1</th>\n",
       "      <td>5</td>\n",
       "    </tr>\n",
       "    <tr>\n",
       "      <th>2</th>\n",
       "      <td>5</td>\n",
       "    </tr>\n",
       "  </tbody>\n",
       "</table>\n",
       "</div>"
      ],
      "text/plain": [
       "   x\n",
       "y   \n",
       "0  5\n",
       "1  5\n",
       "2  5"
      ]
     },
     "execution_count": null,
     "metadata": {},
     "output_type": "execute_result"
    }
   ],
   "source": [
    "new_df = balance_df(df=df, y_column=\"y\", random_state=115, size=5)\n",
    "new_df.groupby(\"y\").count()"
   ]
  },
  {
   "cell_type": "code",
   "execution_count": null,
   "metadata": {},
   "outputs": [],
   "source": [
    "# hide\n",
    "\n",
    "# balance unit tests\n",
    "# test 0 \n",
    "new_df = balance_df(df=df, y_column=\"y\", size=0).groupby(\"y\").count()\n",
    "test_eq(list(new_df.x), [])\n",
    "\n",
    "# test partial balance\n",
    "new_df = balance_df(df=df, y_column=\"y\", size=1).groupby(\"y\").count()\n",
    "test_eq(list(new_df.x), [1, 1, 1])\n",
    "\n",
    "# test partial balance\n",
    "new_df = balance_df(df=df, y_column=\"y\", size=3).groupby(\"y\").count()\n",
    "test_eq(list(new_df.x), [3, 3, 3])\n",
    "\n",
    "# test large balance\n",
    "new_df = balance_df(df=df, y_column=\"y\", size=4).groupby(\"y\").count()\n",
    "test_eq(list(new_df.x), [4, 4, 4])"
   ]
  },
  {
   "cell_type": "code",
   "execution_count": null,
   "metadata": {},
   "outputs": [],
   "source": []
  },
  {
   "cell_type": "code",
   "execution_count": null,
   "metadata": {},
   "outputs": [],
   "source": []
  },
  {
   "cell_type": "code",
   "execution_count": null,
   "metadata": {},
   "outputs": [],
   "source": []
  }
 ],
 "metadata": {
  "kernelspec": {
   "display_name": "Python 3",
   "language": "python",
   "name": "python3"
  }
 },
 "nbformat": 4,
 "nbformat_minor": 4
}
