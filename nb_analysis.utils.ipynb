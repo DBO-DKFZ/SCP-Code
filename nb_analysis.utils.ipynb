{
 "cells": [
  {
   "cell_type": "code",
   "execution_count": null,
   "metadata": {},
   "outputs": [],
   "source": [
    "# default_exp analysis.utils"
   ]
  },
  {
   "cell_type": "markdown",
   "metadata": {},
   "source": [
    "# Utils for analysis\n",
    "\n",
    "> Various methods to modify and work with python dictionaries"
   ]
  },
  {
   "cell_type": "code",
   "execution_count": null,
   "metadata": {},
   "outputs": [],
   "source": [
    "# hide\n",
    "from nbdev.showdoc import *\n",
    "from fastcore.test import *\n",
    "\n",
    "%load_ext autoreload\n",
    "%autoreload 2"
   ]
  },
  {
   "cell_type": "code",
   "execution_count": null,
   "metadata": {},
   "outputs": [],
   "source": [
    "# export \n",
    "import pandas as pd\n",
    "import numpy as np\n",
    "import torch"
   ]
  },
  {
   "cell_type": "code",
   "execution_count": null,
   "metadata": {},
   "outputs": [],
   "source": [
    "# export \n",
    "def concat_preds(preds_list:list) -> tuple:\n",
    "    '''Concatenate a list of fastai-style-like predictions into a single fastai-style-like prediction.\n",
    "    \n",
    "    Parameters\n",
    "    ----------\n",
    "    preds_list : list\n",
    "        List of tuples where each tuple contains two tensors. \n",
    "        First tensor contains probabilities and second one ground truth. \n",
    "    \n",
    "    Returns\n",
    "    -------\n",
    "    Fastai-style-like prediction\n",
    "    '''\n",
    "    probs = torch.cat(tuple([v[0] for v in preds_list]))\n",
    "    gt = torch.cat(tuple([v[1] for v in preds_list]))\n",
    "    \n",
    "    return (probs, gt)\n",
    "\n",
    "def ensemble(preds_list:list) -> tuple:\n",
    "    '''Ensemble a list of fastai-style-like predictions into a single fastai-style-like prediction.\n",
    "    \n",
    "    Simple ensemble using averaging. \n",
    "    \n",
    "    Parameters\n",
    "    ----------\n",
    "    preds_list : list\n",
    "        List of tuples where each tuple contains two tensors. \n",
    "        First tensor contains probabilities and second one ground truth. \n",
    "    \n",
    "    Returns\n",
    "    -------\n",
    "    Fastai-style-like prediction\n",
    "    '''\n",
    "    n = len(preds_list)\n",
    "    \n",
    "    probs, gt = preds_list[0][0].clone(), preds_list[0][1].clone()\n",
    "    for preds in preds_list[1:]:\n",
    "        assert torch.equal(gt, preds[1]), \"Ground truth tensors do not match. Unequal size or elements.\"\n",
    "        probs += preds[0]\n",
    "    \n",
    "    return (probs/n, gt)\n",
    "\n",
    "def verify_softmax(preds:tuple):\n",
    "    '''Verify softmax for a single fastai-style-like prediction.\n",
    "    \n",
    "    Parameters\n",
    "    ----------\n",
    "    preds : tuple\n",
    "        Tuple with two tensors (fastai-style-like predictio). \n",
    "        First tensor contains probabilities and second one ground truth.  \n",
    "    '''    \n",
    "    assert torch.allclose(preds[0].sum(axis=1), torch.Tensor([1.])), \"Softmax probabilities do not sum up to 1.\""
   ]
  },
  {
   "cell_type": "code",
   "execution_count": null,
   "metadata": {},
   "outputs": [],
   "source": []
  }
 ],
 "metadata": {
  "kernelspec": {
   "display_name": "Python 3 (ipykernel)",
   "language": "python",
   "name": "python3"
  }
 },
 "nbformat": 4,
 "nbformat_minor": 4
}
