{
 "cells": [
  {
   "cell_type": "code",
   "execution_count": null,
   "metadata": {},
   "outputs": [],
   "source": [
    "# default_exp projects.robustness_benchmark"
   ]
  },
  {
   "cell_type": "markdown",
   "metadata": {},
   "source": [
    "# Robustness Benchmark\n",
    "> Benchmark utility code"
   ]
  },
  {
   "cell_type": "code",
   "execution_count": null,
   "metadata": {},
   "outputs": [],
   "source": [
    "# hide\n",
    "from nbdev.showdoc import *\n",
    "from fastcore.test import *\n",
    "\n",
    "%load_ext autoreload\n",
    "%autoreload 2"
   ]
  },
  {
   "cell_type": "code",
   "execution_count": null,
   "metadata": {},
   "outputs": [],
   "source": [
    "# export\n",
    "import pandas as pd\n",
    "import numpy as np\n",
    "\n",
    "from enum import Enum \n",
    "from functools import partial\n",
    "from scp.analysis.binary import performance\n",
    "from scp.utils.dict import apply_to_vals"
   ]
  },
  {
   "cell_type": "markdown",
   "metadata": {},
   "source": [
    "## Constants"
   ]
  },
  {
   "cell_type": "code",
   "execution_count": null,
   "metadata": {},
   "outputs": [],
   "source": [
    "# export\n",
    "Corruption = Enum(\"Corruption\", \n",
    "                  \"gaussian_noise, shot_noise, impulse_noise,\\\n",
    "                   defocus_blur, motion_blur, zoom_blur,\\\n",
    "                   black_corner, char,\\\n",
    "                   brightness_up, brightness_down, contrast, elastic_transform, pixelate, jpeg_compression,\\\n",
    "                   speckle_noise, gaussian_blur, bubble, saturate,\\\n",
    "                   sanity_check\")\n",
    "\n",
    "Perturbation = Enum(\"Perturbation\",\n",
    "                    \"gaussian_noise, shot_noise,\\\n",
    "                     motion_blur, zoom_blur,\\\n",
    "                     char\\\n",
    "                     brightness, translate, rotate, tilt, scale,\\\n",
    "                     speckle_noise, gaussian_blur, bubble, shear,\\\n",
    "                     sanity_check\")\n",
    "\n",
    "max_severity = 6 # severity ranges from 1 to 5 inclusive\n",
    "num_frames = 31 # \n",
    "classes = [\"nevus\", \"melanoma\"]\n",
    "\n"
   ]
  },
  {
   "cell_type": "markdown",
   "metadata": {},
   "source": [
    "## Analysis"
   ]
  },
  {
   "cell_type": "code",
   "execution_count": null,
   "metadata": {},
   "outputs": [],
   "source": [
    "# export\n",
    "# get balanced error rate\n",
    "def bal_error_rate(v):\n",
    "    perf = performance(v[1], v[0][:,1], bal_err_rate=True)\n",
    "    return perf[\"bal_err_rate\"]\n",
    "\n",
    "# get normal error rate\n",
    "def error_rate(v):\n",
    "    perf = performance(v[1], v[0][:,1], err_rate=True)\n",
    "    return perf[\"err_rate\"]\n",
    "\n",
    "# get auroc\n",
    "def auroc(v):\n",
    "    perf = performance(v[1], v[0][:,1], auroc=True)\n",
    "    return perf[\"auroc\"]\n",
    "\n",
    "# get acc\n",
    "def acc(v):\n",
    "    perf = performance(v[1], v[0][:,1])\n",
    "    return perf[\"acc\"]\n",
    "\n",
    "# get spec\n",
    "def spec(v):\n",
    "    perf = performance(v[1], v[0][:,1])\n",
    "    return perf[\"spec\"]\n",
    "\n",
    "# get sens\n",
    "def sens(v):\n",
    "    perf = performance(v[1], v[0][:,1])\n",
    "    return perf[\"sens\"]\n",
    "\n",
    "# get bal acc\n",
    "def bal_acc(v):\n",
    "    perf = performance(v[1], v[0][:,1], bal_acc=True)\n",
    "    return perf[\"bal_acc\"]\n",
    "\n",
    "def flip_rate(k, v, n):\n",
    "    preds = v[0]\n",
    "    stop = preds.shape[0]\n",
    "    assert stop%n == 0, f\"Number of predictions ({stop}) is not evenly divisible by stepsize ({n})!\"\n",
    "    \n",
    "    noise_seq = False\n",
    "    if \"noise\" in k:\n",
    "        noise_seq = True\n",
    "        \n",
    "    # calculate flip rate for a single image sequence (which contains 'n' number of frames)\n",
    "    n_sum, m = 0, 0\n",
    "    for i in range(0, stop, n):\n",
    "        m += 1\n",
    "        seq_preds = preds[i:i+n].argmax(dim=1)\n",
    "        \n",
    "        if noise_seq:\n",
    "            n_sum += sum(seq_preds[0]!=seq_preds[1:])\n",
    "        else:\n",
    "            n_sum += sum(seq_preds[:-1]!=seq_preds[1:])\n",
    "    \n",
    "    return (n_sum/(m*(n-1))).item()"
   ]
  },
  {
   "cell_type": "code",
   "execution_count": null,
   "metadata": {},
   "outputs": [],
   "source": [
    "# export\n",
    "\n",
    "# get flib probability\n",
    "def flip_prob(k, v, n):\n",
    "    preds = v[0]\n",
    "    stop = preds.shape[0]\n",
    "    assert stop%n == 0, f\"Number of predictions ({stop}) is not evenly divisible by stepsize ({n})!\"\n",
    "    \n",
    "    noise_seq = False\n",
    "    if \"noise\" in k:\n",
    "        noise_seq = True\n",
    "        \n",
    "    # calculate flip rate for a single image sequence (which contains 'n' number of frames)\n",
    "    n_sum, m = 0, 0\n",
    "    for i in range(0, stop, n):\n",
    "        m += 1\n",
    "        seq_preds = preds[i:i+n].argmax(dim=1)\n",
    "        \n",
    "        if noise_seq:\n",
    "            n_sum += sum(seq_preds[0]!=seq_preds[1:])\n",
    "        else:\n",
    "            n_sum += sum(seq_preds[:-1]!=seq_preds[1:])\n",
    "    \n",
    "    return (n_sum/(m*(n-1))).item()\n",
    "\n",
    "def relative_perf(perf_c:dict, perf_cl:float):\n",
    "    \n",
    "    def subtract(v, x): return v-x\n",
    "    \n",
    "    apply_subtract = partial(subtract, x=perf_cl)\n",
    "    return apply_to_vals(perf_c, apply_subtract)\n",
    "\n",
    "def adjust_by_baseline(perf:dict, base:dict):\n",
    "    \n",
    "    perf = perf.copy()\n",
    "    for tfm in perf.keys():\n",
    "        perf[tfm] = perf[tfm]/base[tfm]\n",
    "        \n",
    "    return perf"
   ]
  },
  {
   "cell_type": "code",
   "execution_count": null,
   "metadata": {},
   "outputs": [],
   "source": []
  }
 ],
 "metadata": {
  "kernelspec": {
   "display_name": "Python 3",
   "language": "python",
   "name": "python3"
  }
 },
 "nbformat": 4,
 "nbformat_minor": 4
}
